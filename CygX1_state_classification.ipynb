{
 "metadata": {
  "name": "",
  "signature": "sha256:5944cbf7f7faa72aac07685d5add4bca14e623a269610c0449ff606a518cab5e"
 },
 "nbformat": 3,
 "nbformat_minor": 0,
 "worksheets": [
  {
   "cells": [
    {
     "cell_type": "markdown",
     "metadata": {},
     "source": [
      "#Classifying States in Cygnus X-1\n",
      "\n",
      "Aims:\n",
      "- Unsupervised classification of Cygnus X-1 states based on pointed observations (usually derived from parameters by hand)\n",
      "- How many distinct states are there (i.e. does the intermediate state exist)?\n",
      "- Do the hard and soft states change with time: do they look the same over the entire lifetime of the observations?\n",
      "- which features decide on whether a source is in a soft, intermediate or hard state?\n",
      "- should we use the clean biweekly sample or can we use the earlier data taken in a different mode?\n",
      "\n",
      "We might need to refine these questions as we go.\n",
      "\n",
      "The data we have are:\n",
      "- data are satellite orbit by satellite orbit, average exposure 1.6-1.7 ks\n",
      "- 2015 individual observations, each of which make a single sample (feature vector)\n",
      "- data consist of:\n",
      "    - light curves\n",
      "    - spectral fits\n",
      "    - hardnesses if necessary\n",
      "\n",
      "Need to decide:\n",
      "- which features to include\n",
      "- whether to include spectral fit parameters\n",
      "- whether to include radio emission\n",
      "- do feature engineering, throw out features that don't add anything, run unsupervised classification on restricted feature set, but check back with full feature set whether the unsupervised classification changes significantly!\n",
      "\n",
      "\n",
      "## Visualisation of our basic feature space\n",
      "\n",
      "Our feature space is this, and combinations of this (these are the columns in data file `data_for_ml.dat`:\n",
      "\n",
      "1. Blockname (identifier for observation)\n",
      "2. Gamma_1 (photon index from spectral fits; equivalent to state label: Gamma_1 <= 2.0 hard state, 2.0 < Gamma_1 <= 2.5 intermediate state, 2.5 <= soft state)\n",
      "3. start time\n",
      "4. stop time\n",
      "\n",
      "5. rms in 0.125\u2013256 Hz range in the 2.1-4.5 keV energy band\n",
      "6. rms in 0.125\u2013256 Hz range in the 4.5-5.7 keV energy band\n",
      "7. rms in 0.125\u2013256 Hz range in the 5.7-9.4 keV energy band\n",
      "8. rms in 0.125\u2013256 Hz range in the 9.4-15 keV energy band\n",
      "\n",
      "9. rms in 0.25\u20132 Hz range in the 2.1-4.5 keV energy band\n",
      "10. rms in 2-16 Hz range in the 2.1-4.5 keV energy band\n",
      "\n",
      "11. average timelag in 3.2-10 Hz range (9.4-15 keV vs. 2.1-4.5 keV)\n",
      "12. average coherence in 3.2-10 Hz range (9.4-15 keV vs. 2.1-4.5 keV)\n",
      "\n",
      "13. average countrate in 2.1-4.5 keV energy band\n",
      "14. average countrate in 4.5-5.7 keV energy band\n",
      "15. average countrate in 5.7-9.4 keV energy band\n",
      "16. average countrate in 9.4-15 keV energy band\n",
      "\n",
      "\n",
      "We're going to use hardness ratios instead of count rates, where \n",
      "\n",
      "HR1 = (average countrate in 9.4-15 keV energy band)/(average countrate in 2.1-4.5 keV energy band)\n",
      "\n",
      "and\n",
      "\n",
      "HR2 = (average countrate in 5.7-9.4 keV energy band)/(average countrate in 2.1-4.5 keV energy band)\n",
      "\n",
      "and\n",
      "\n",
      "HR3 = (average countrate in 9.4-15 keV energy band)/(average countrate in 4.5-5.7 keV energy band)\n",
      "\n",
      "and\n",
      "\n",
      "HR4 = (average countrate in 5.7-9.4 keV energy band)/(average countrate in 4.5-5.7 keV energy band)\n",
      "\n",
      "We're also going to work with the sum as a proxy for the total intensity:\n",
      "\n",
      "SUM = 13 + 14 + 15 + 16\n",
      "\n",
      "We're also going to look at Power Colours:\n",
      "\n",
      "PC1 = (rms in 2-16 Hz range in the 2.1-4.5 keV energy band)/(rms in 0.25\u20132 Hz range in the 2.1-4.5 keV energy band)\n"
     ]
    },
    {
     "cell_type": "code",
     "collapsed": false,
     "input": [
      "## Imports\n",
      "%matplotlib inline\n",
      "import matplotlib.pyplot as plt\n",
      "import seaborn as sns\n",
      "sns.set_context(\"notebook\", font_scale=2.5, rc={\"axes.labelsize\": 26})\n",
      "plt.rc(\"font\", size=24, family=\"serif\", serif=\"Computer Sans\")\n",
      "plt.rc(\"axes\", titlesize=20, labelsize=20) \n",
      "plt.rc(\"text\", usetex=True)\n",
      "\n",
      "import numpy as np\n",
      "import generaltools as gt\n",
      "\n",
      "from sklearn.preprocessing import StandardScaler\n",
      "from sklearn.neighbors import KNeighborsClassifier\n",
      "from sklearn.grid_search import GridSearchCV\n",
      "from sklearn.metrics import confusion_matrix\n",
      "import matplotlib.cm as cmap\n",
      "from sklearn.ensemble import RandomForestClassifier\n",
      "from sklearn import linear_model \n",
      "from sklearn.manifold import TSNE"
     ],
     "language": "python",
     "metadata": {},
     "outputs": [],
     "prompt_number": 54
    },
    {
     "cell_type": "code",
     "collapsed": false,
     "input": [
      "## first row is strings, put that separately\n",
      "data1= gt.conversion(\"data_for_ml.txt\")\n",
      "blockname = data1[0]"
     ],
     "language": "python",
     "metadata": {},
     "outputs": [],
     "prompt_number": 7
    },
    {
     "cell_type": "code",
     "collapsed": false,
     "input": [
      "## load in all other columns as a numpy.array\n",
      "data = np.loadtxt(\"data_for_ml.txt\", usecols=range(1,len(data1.keys()),1))"
     ],
     "language": "python",
     "metadata": {},
     "outputs": [],
     "prompt_number": 10
    },
    {
     "cell_type": "code",
     "collapsed": false,
     "input": [
      "gammas = data[:,0]\n",
      "tstart = data[:,1]\n",
      "tend = data[:,2]\n",
      "\n",
      "rms_features = np.atleast_2d(data[:,3:7]).T\n",
      "\n",
      "pc1 = np.atleast_2d(data[:,8]/data[:,7])\n",
      "\n",
      "timelag = np.atleast_2d(data[:,9])\n",
      "coherence = np.atleast_2d(data[:,10])\n",
      "intensity = np.atleast_2d(np.sum(data[:,11:], axis=1))\n",
      "\n",
      "hr1 = np.atleast_2d(data[:,14]/data[:,11])\n",
      "hr2 = np.atleast_2d(data[:,13]/data[:,11])\n",
      "hr3 = np.atleast_2d(data[:,14]/data[:,12])\n",
      "hr4 = np.atleast_2d(data[:,14]/data[:,12])\n",
      "\n",
      "countrate_features = np.atleast_2d(data[:,11:]).T\n",
      "pc_components = np.atleast_2d(data[:,7:9]).T\n",
      "\n",
      "features = np.concatenate((rms_features, pc1, timelag, coherence, intensity, hr1, hr2, hr3, hr4, countrate_features, pc_components)).T"
     ],
     "language": "python",
     "metadata": {},
     "outputs": [],
     "prompt_number": 51
    },
    {
     "cell_type": "code",
     "collapsed": false,
     "input": [
      "### scale features\n",
      "scaler_train = StandardScaler().fit(features)\n",
      "fscaled = scaler_train.transform(features)\n"
     ],
     "language": "python",
     "metadata": {},
     "outputs": [],
     "prompt_number": 52
    },
    {
     "cell_type": "markdown",
     "metadata": {},
     "source": [
      "### Running t-SNE on the raw features space"
     ]
    },
    {
     "cell_type": "code",
     "collapsed": false,
     "input": [
      "tsne = TSNE()\n",
      "asdf = tsne.fit_transform(fscaled)"
     ],
     "language": "python",
     "metadata": {},
     "outputs": []
    },
    {
     "cell_type": "code",
     "collapsed": false,
     "input": [],
     "language": "python",
     "metadata": {},
     "outputs": []
    }
   ],
   "metadata": {}
  }
 ]
}